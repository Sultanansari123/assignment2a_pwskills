{
 "cells": [
  {
   "cell_type": "markdown",
   "id": "c482575f-30ac-4175-a4e8-e509c3ec0098",
   "metadata": {},
   "source": [
    "# Ans1-"
   ]
  },
  {
   "cell_type": "markdown",
   "id": "318237c0-a830-45ad-bad3-94abfb0f048b",
   "metadata": {},
   "source": [
    "Grid search cv in machine learning is used to find the best combination of hyperparameter values for a model by exhaustively searching through a specific set of hyperparameter values."
   ]
  },
  {
   "cell_type": "markdown",
   "id": "452c35ef-5639-44f7-8170-96c77f1d03f7",
   "metadata": {},
   "source": [
    "# Ans2-"
   ]
  },
  {
   "cell_type": "markdown",
   "id": "7ee73fee-d38d-433f-92ac-45f668724d6b",
   "metadata": {},
   "source": [
    "Grid search cv explores all possible combination of hyperparameter values while random search cv randomly samples combinations.making it more efficients for large search spaces,choose grid search cv for smaller space and random search cv for larger ones."
   ]
  },
  {
   "cell_type": "markdown",
   "id": "7cde2c51-8284-4e74-899f-ed595ddafed9",
   "metadata": {},
   "source": [
    "# Ans3-"
   ]
  },
  {
   "cell_type": "markdown",
   "id": "797299e8-62bd-4eb6-ad7a-03d35a2ffba1",
   "metadata": {},
   "source": [
    "Data leakage in machine learning occurs when information from outside the training dataset is used to create a model, leading to overoptimistic performance estimates; example: using future information or target-related data in the training set."
   ]
  },
  {
   "cell_type": "markdown",
   "id": "0bc0b04d-4f19-461e-b2ad-5627dc637241",
   "metadata": {},
   "source": [
    "# Ans4-"
   ]
  },
  {
   "cell_type": "markdown",
   "id": "e62446a6-938f-4dbc-ac1a-2f95f6b3f8bb",
   "metadata": {},
   "source": [
    "To prevent the data leakage,seprate the training set and validation set before future engineering ,ensures that the information from the validation set does not influence the training process."
   ]
  },
  {
   "cell_type": "markdown",
   "id": "38b38f05-92a0-44fa-b94c-3af2b64cb28c",
   "metadata": {},
   "source": [
    "# Ans5-"
   ]
  },
  {
   "cell_type": "markdown",
   "id": "87dda6f6-d22f-4d66-b069-a889ad24b505",
   "metadata": {},
   "source": [
    "A confusion matrix is a table that summarizes the performance of a classification model, showing the counts of true positive, true negative, false positive, and false negative predictions. It helps evaluate the model's accuracy, precision, recall, and other metrics."
   ]
  },
  {
   "cell_type": "markdown",
   "id": "edcd2977-f74d-4597-976a-de905dd2846d",
   "metadata": {},
   "source": [
    "# Ans6-"
   ]
  },
  {
   "cell_type": "markdown",
   "id": "b082f5f3-c378-4918-a94d-ec1708f38837",
   "metadata": {},
   "source": [
    "\n",
    "Precision measures the accuracy of positive predictions, while recall assesses the model's ability to capture all positive instances; precision is about being precise, and recall is about being thorough."
   ]
  },
  {
   "cell_type": "markdown",
   "id": "03b20239-df6e-4c57-b0b7-0a63142ab5ed",
   "metadata": {},
   "source": [
    "# Ans7-"
   ]
  },
  {
   "cell_type": "markdown",
   "id": "29c094c3-8891-4202-ae20-2b3ac012a199",
   "metadata": {},
   "source": [
    "False Positives (Type I errors): Model predicted positive, but it's actually negative.\n",
    "\n",
    "False Negatives (Type II errors): Model predicted negative, but it's actually positive.\n",
    "\n",
    "\n",
    "\n",
    "\n"
   ]
  },
  {
   "cell_type": "markdown",
   "id": "344a3ce2-40b4-4c90-8e02-4e73ff0b98b0",
   "metadata": {},
   "source": [
    "# Ans8-"
   ]
  },
  {
   "cell_type": "markdown",
   "id": "6deb7be8-b17a-4483-a4bb-c2da72b17da3",
   "metadata": {},
   "source": [
    "\n",
    "Accuracy is the ratio of correctly predicted instances to the total instances.\n",
    "\n",
    "accuracy=TP+TN/total instance"
   ]
  },
  {
   "cell_type": "markdown",
   "id": "f3872221-a9af-4bab-b76f-a361f926b772",
   "metadata": {},
   "source": [
    "# Ans10"
   ]
  },
  {
   "cell_type": "markdown",
   "id": "b6fca980-d732-4cab-ace6-caf8c4aafaca",
   "metadata": {},
   "source": [
    "Check for imbalances in the confusion matrix, especially in terms of false positives or false negatives. Biases may exist if the model is consistently misclassifying certain classes, indicating a need for better representation or addressing biases in the training data."
   ]
  },
  {
   "cell_type": "code",
   "execution_count": null,
   "id": "05ce9e01-a78c-4aef-887f-609f7a0a64f0",
   "metadata": {},
   "outputs": [],
   "source": []
  }
 ],
 "metadata": {
  "kernelspec": {
   "display_name": "Python 3 (ipykernel)",
   "language": "python",
   "name": "python3"
  },
  "language_info": {
   "codemirror_mode": {
    "name": "ipython",
    "version": 3
   },
   "file_extension": ".py",
   "mimetype": "text/x-python",
   "name": "python",
   "nbconvert_exporter": "python",
   "pygments_lexer": "ipython3",
   "version": "3.10.8"
  }
 },
 "nbformat": 4,
 "nbformat_minor": 5
}
